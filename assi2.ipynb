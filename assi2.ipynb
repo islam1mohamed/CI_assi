{
 "cells": [
  {
   "cell_type": "markdown",
   "id": "f2c5ed10",
   "metadata": {},
   "source": [
    "# Constant step "
   ]
  },
  {
   "cell_type": "code",
   "execution_count": 9,
   "id": "e245c7d6",
   "metadata": {},
   "outputs": [
    {
     "name": "stdout",
     "output_type": "stream",
     "text": [
      "the value using constant step [ 0.00327253 -0.07652982] with magnitude df 0.009124287386109098\n"
     ]
    }
   ],
   "source": [
    "import numpy as np\n",
    "\n",
    "# Given function\n",
    "def f(x):\n",
    "    return 3*(x[0]**4) + 3*(x[0]**2)*(x[1]**2) + (x[0]**2) + 2*(x[1]**4)\n",
    "\n",
    "# Initial point\n",
    "point_init = np.array([1.0, 1.0])\n",
    "\n",
    "# Analytical derivatives for verification\n",
    "def f_dx1(x):\n",
    "    return 12*x[0]**3 + 6*x[0]*x[1]**2 + 2*x[0]\n",
    "\n",
    "def f_dx2(x):\n",
    "    return 6*x[0]**2 * x[1] + 8 * x[1]**3\n",
    "\n",
    "# Numerical derivative function using central difference\n",
    "def numerical_derivative(func, x, h=1e-5):\n",
    "    # Check if x is a single variable (number)\n",
    "    if np.isscalar(x):\n",
    "        # Use central difference formula for single-variable function\n",
    "        return (func(x + h) - func(x - h)) / (2 * h)\n",
    "    else:\n",
    "        # Multi-variable case\n",
    "        grad = np.zeros_like(x)\n",
    "        for i in range(len(x)):\n",
    "            x_forward = np.copy(x)\n",
    "            x_backward = np.copy(x)\n",
    "            x_forward[i] += h\n",
    "            x_backward[i] -= h\n",
    "            grad[i] = (func(x_forward) - func(x_backward)) / (2 * h)\n",
    "        return grad\n",
    "\n",
    "def mag(df):\n",
    "    return np.sqrt(df[0]**2 + df[1]**2)\n",
    "\n",
    "# variables\n",
    "x_old = point_init\n",
    "epsilon = 0.01\n",
    "etta = 0.1\n",
    "magnitude = 100000\n",
    "\n",
    "while magnitude > epsilon:\n",
    "    \n",
    "    df = numerical_derivative(f, x_old)\n",
    "    x_old = x_old - etta * df\n",
    "    magnitude = mag(df)\n",
    "    \n",
    "print (f\"the value using constant step {x_old} with magnitude df {magnitude}\")\n"
   ]
  },
  {
   "cell_type": "markdown",
   "id": "94f0bc35",
   "metadata": {},
   "source": [
    "# using NRGD"
   ]
  },
  {
   "cell_type": "code",
   "execution_count": 10,
   "id": "4e95c0f5",
   "metadata": {},
   "outputs": [
    {
     "name": "stdout",
     "output_type": "stream",
     "text": [
      " using NRGD final point is [0.00254373 0.06677202] with magnitude 0.007549976824613207 \n"
     ]
    }
   ],
   "source": [
    "\n",
    "# variables\n",
    "x_old = point_init\n",
    "epsilon = 0.01\n",
    "etta = 0.1\n",
    "magnitude_NR = 100000\n",
    "\n",
    "# Numerical second derivative to compute the Hessian\n",
    "def numerical_hessian(func, x, h=1e-5):\n",
    "    n = len(x)\n",
    "    hessian = np.zeros((n, n))\n",
    "    \n",
    "    for i in range(n):\n",
    "        for j in range(n):\n",
    "            x_ij_plus = np.copy(x)\n",
    "            x_ij_minus = np.copy(x)\n",
    "            x_i_plus_j_minus = np.copy(x)\n",
    "            x_i_minus_j_plus = np.copy(x)\n",
    "\n",
    "            # Increment the indices i and j\n",
    "            x_ij_plus[i] += h\n",
    "            x_ij_plus[j] += h\n",
    "            \n",
    "            x_ij_minus[i] -= h\n",
    "            x_ij_minus[j] -= h\n",
    "            \n",
    "            if i == j:\n",
    "                # Diagonal elements: Second derivative with respect to x_i twice\n",
    "                hessian[i, j] = (func(x_ij_plus) - 2 * func(x) + func(x_ij_minus)) / (h**2)\n",
    "            else:\n",
    "                # Off-diagonal elements: Mixed partial derivatives\n",
    "                x_i_plus_j_minus[i] += h\n",
    "                x_i_plus_j_minus[j] -= h\n",
    "                x_i_minus_j_plus[i] -= h\n",
    "                x_i_minus_j_plus[j] += h\n",
    "\n",
    "                hessian[i, j] = (func(x_ij_plus) - func(x_i_plus_j_minus) - func(x_i_minus_j_plus) + func(x_ij_minus)) / (4 * h**2)\n",
    "\n",
    "    return hessian\n",
    "\n",
    "# Variables\n",
    "point_init = np.array([1.0, 1.0])\n",
    "\n",
    "\n",
    "while magnitude_NR > epsilon:\n",
    "\n",
    "    df = numerical_derivative(f, x_old)\n",
    "    Hess = numerical_hessian(f,x_old)\n",
    "\n",
    "    \n",
    "    x_old = x_old - np.dot(np.linalg.inv(Hess),df)    \n",
    "    magnitude_NR = mag(df)\n",
    "    \n",
    "\n",
    "print (f\" using NRGD final point is {x_old} with magnitude {magnitude_NR} \")\n"
   ]
  },
  {
   "cell_type": "markdown",
   "id": "accca328",
   "metadata": {},
   "source": [
    "# steepest descent"
   ]
  },
  {
   "cell_type": "code",
   "execution_count": 11,
   "id": "3d5fb7ba",
   "metadata": {},
   "outputs": [
    {
     "name": "stdout",
     "output_type": "stream",
     "text": [
      "for the 1 iteration we got etta : 0.05225195082684077, with derivative magnitude :-3.376867223348068e-05 , giving point [-1.09007803 -0.46305462] \n",
      "for the 2 iteration we got etta : 0.6263623624283642, with derivative magnitude :-0.006415826378915016 , giving point [0.09357773 0.07044885] \n",
      "for the 3 iteration we got etta : 0.6210087885104317, with derivative magnitude :3.574109695811574e-05 , giving point [-0.04142332  0.12036375] \n",
      "for the 4 iteration we got etta : 0.9641554514017743, with derivative magnitude :-0.0003212575926852049 , giving point [0.02659967 0.09784467] \n",
      "for the 5 iteration we got etta : 0.693411224552906, with derivative magnitude :0.00021270573292617685 , giving point [-0.0170998   0.10145672] \n",
      "for the 6 iteration we got etta : 1.0795940986394612, with derivative magnitude :-6.821193312609147e-05 , giving point [0.0140724  0.08750257] \n",
      "for the 7 iteration we got etta : 0.7219041098933705, with derivative magnitude :8.227294125650025e-05 , giving point [-0.00989654  0.08807404] \n",
      "for the 8 iteration we got etta : 1.1437826292041386, with derivative magnitude :-2.515194262581307e-05 , giving point [0.0090227  0.07867199] \n",
      "==================\n",
      "Using steepest descent final point is [0.00329074 0.08621952] with magnitude 0.008285995182735697 \n"
     ]
    }
   ],
   "source": [
    "\n",
    "etta = 0.1\n",
    "x_old = np.array([1.0,1.0])\n",
    "df = numerical_derivative(f,x_old)\n",
    "\n",
    "def x_new(etta):\n",
    "    return x_old - etta * df\n",
    "\n",
    "def phi(etta):\n",
    "    return f(x_new(etta))\n",
    "\n",
    "def numerical_second_derivative (func , x , h= 1e-5):\n",
    "     return (func(x + h) - 2 * func(x) + func(x - h)) / (h ** 2)\n",
    "\n",
    "iter = 1\n",
    "while mag(df) > epsilon:\n",
    "    \n",
    "    df = numerical_derivative(f,x_old)\n",
    "    magnitude_SD = 1000\n",
    "\n",
    "    while magnitude_SD > epsilon:\n",
    "        \n",
    "        dphi = numerical_derivative(phi , etta)\n",
    "        d2phi = numerical_second_derivative(phi , etta)\n",
    "        etta = etta - dphi/d2phi\n",
    "        magnitude_SD = abs (dphi)\n",
    "    x_old = x_new(etta)\n",
    "    print (f\"for the {iter} iteration we got etta : {etta}, with derivative magnitude :{dphi} , giving point {x_new(etta)} \")\n",
    "    iter +=1\n",
    "print(\"==================\")\n",
    "print (f\"Using steepest descent final point is {x_old} with magnitude {mag(df)} \")"
   ]
  }
 ],
 "metadata": {
  "kernelspec": {
   "display_name": "Python 3",
   "language": "python",
   "name": "python3"
  },
  "language_info": {
   "codemirror_mode": {
    "name": "ipython",
    "version": 3
   },
   "file_extension": ".py",
   "mimetype": "text/x-python",
   "name": "python",
   "nbconvert_exporter": "python",
   "pygments_lexer": "ipython3",
   "version": "3.11.3"
  }
 },
 "nbformat": 4,
 "nbformat_minor": 5
}
