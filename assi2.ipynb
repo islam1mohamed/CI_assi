{
 "cells": [
  {
   "cell_type": "markdown",
   "id": "20d5d008",
   "metadata": {},
   "source": [
    "# Constant step "
   ]
  },
  {
   "cell_type": "code",
   "execution_count": 2,
   "id": "b405fc68",
   "metadata": {},
   "outputs": [
    {
     "name": "stdout",
     "output_type": "stream",
     "text": [
      "the value using constant step [ 0.16387772 -0.02214914] with magnitude df 0.00989684408425258\n"
     ]
    }
   ],
   "source": [
    "import numpy as np\n",
    "# givens\n",
    "def f(x):\n",
    "   return (3*(x[0]**4) + 3 * (x[0]**2) * (x[1]**2)+(x[0]**2) + 2 * (x[1]**4))\n",
    "point_init = np.array([1,1])\n",
    "\n",
    "#Sol\n",
    "# let\n",
    "etta = 0.1\n",
    "epsilon = 0.01\n",
    "inf = 1000\n",
    "#----------------------\n",
    "# using constant etta\n",
    "#----------------------\n",
    "def f_dx1(x):\n",
    "    return (12*x[0]**3 + 6 *x[0]*x[1]**2 + 2*x[1])\n",
    "def f_dx2(x) :\n",
    "    return 6 * x[0]**2 *x[1] +8 *x[1]**3\n",
    "\n",
    "def mag(df):\n",
    "    return np.sqrt(df[0]**2 + df[1]**2)\n",
    "x_old = point_init\n",
    "\n",
    "magnitude = inf\n",
    "while magnitude > epsilon:\n",
    "    \n",
    "    df = np.array([f_dx1(x_old) , f_dx2(x_old)])\n",
    "    x_old = x_old - etta * df\n",
    "    magnitude = mag(df)\n",
    "    \n",
    "    # print (np.array2string(x_old) +\" give magnitude: \"+ str(magnitude))\n",
    "\n",
    "print (f\"the value using constant step {x_old} with magnitude df {magnitude}\")\n",
    "\n",
    "\n"
   ]
  },
  {
   "cell_type": "markdown",
   "id": "adedd1a1",
   "metadata": {},
   "source": [
    "# using NRGD"
   ]
  },
  {
   "cell_type": "code",
   "execution_count": 4,
   "id": "fb509214",
   "metadata": {},
   "outputs": [
    {
     "name": "stdout",
     "output_type": "stream",
     "text": [
      " using NRGD final point is [-9.01426435e-02  3.02019891e-11] at magnitude 0.008789660758436206 \n"
     ]
    }
   ],
   "source": [
    "#-----------------------\n",
    "#NRGD\n",
    "#-----------------------\n",
    "def df(x):\n",
    "    return np.array([f_dx1(x) , f_dx2(x)])\n",
    "\n",
    "def H(x):\n",
    "    f_x1x1 = 36 * x[0] **2 +6* x[1] **2 + 2\n",
    "    \n",
    "    f_x1x2 = 12*x[0]*x[1] \n",
    "    \n",
    "    f_x2x2 = 6 *x[0]**2 + 24 * x[1]**2\n",
    "    return np.array ([[f_x1x1 , f_x1x2],[f_x1x2 , f_x2x2]])\n",
    "    \n",
    "\n",
    "# variables\n",
    "point_init= np.array([1.0, 1.0])\n",
    "magnitude_NR = inf\n",
    "x_old = point_init\n",
    "\n",
    "while magnitude_NR > epsilon:\n",
    "# for i in range(10):\n",
    "    x_old = x_old - np.dot(np.linalg.inv(H(x_old)),df(x_old))    \n",
    "    magnitude_NR = mag(df(x_old))\n",
    "    \n",
    "    \n",
    "print (f\" using NRGD final point is {x_old} at magnitude {magnitude_NR} \")\n"
   ]
  },
  {
   "cell_type": "markdown",
   "id": "b3c777e5",
   "metadata": {},
   "source": [
    "# steepest descent"
   ]
  },
  {
   "cell_type": "code",
   "execution_count": 5,
   "id": "e4fde5d2",
   "metadata": {},
   "outputs": [
    {
     "name": "stdout",
     "output_type": "stream",
     "text": [
      "the value using steepest descent 0.05225192332077353 giving initial point [-0.0450384664154706, 0.2684730735091706]\n",
      "applying graidiant descent with optimum etta giving point [-0.07919416244364573, 0.0024841496775671033]\n"
     ]
    }
   ],
   "source": [
    "\n",
    "# value functions\n",
    "def  phi(etta):\n",
    "    return 792032 *etta**4 -175072* etta**3 +15100* etta **2-596*etaa +9\n",
    "\n",
    "def d1phi(etta):\n",
    "    return 3168128 *etta **3 - 525216* etta**2 +30200 * etta - 596\n",
    "\n",
    "def d2phi (etta):\n",
    "    return 9504384 *etta **2 -1050432 * etta + 30200\n",
    "\n",
    "\n",
    "# variables\n",
    "\n",
    "etta_node = 0.1\n",
    "point_init= np.array([1.0, 1.0])\n",
    "magnitude_SD = inf\n",
    "epsilon = 0.001\n",
    "etta_old = etta_node \n",
    "x = [1 , 1]\n",
    "#solution\n",
    "\n",
    "while abs(magnitude_SD)> epsilon:\n",
    "    \n",
    "    etta_new = etta_old - d1phi(etta_old)/d2phi(etta_old)\n",
    "    etta_old = etta_new\n",
    "    magnitude_SD = d1phi(etta_old)\n",
    "x = [x[0]-df(x)[0]*etta_old, x[1]-df(x)[1]*etta_old]\n",
    "print(f\"the value using steepest descent {etta_old} giving initial point {x}\")\n",
    "\n",
    "while mag(df(x)) > epsilon:\n",
    "    x = [x[0]-df(x)[0]*etta_old, x[1]-df(x)[1]*etta_old]\n",
    "\n",
    "print(f\"applying graidiant descent with optimum etta giving point {x}\")\n",
    "\n",
    "\n"
   ]
  },
  {
   "cell_type": "code",
   "execution_count": null,
   "id": "02b0b160",
   "metadata": {},
   "outputs": [],
   "source": []
  }
 ],
 "metadata": {
  "kernelspec": {
   "display_name": "Python 3 (ipykernel)",
   "language": "python",
   "name": "python3"
  },
  "language_info": {
   "codemirror_mode": {
    "name": "ipython",
    "version": 3
   },
   "file_extension": ".py",
   "mimetype": "text/x-python",
   "name": "python",
   "nbconvert_exporter": "python",
   "pygments_lexer": "ipython3",
   "version": "3.11.3"
  }
 },
 "nbformat": 4,
 "nbformat_minor": 5
}
